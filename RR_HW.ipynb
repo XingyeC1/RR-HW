{
  "nbformat": 4,
  "nbformat_minor": 0,
  "metadata": {
    "colab": {
      "provenance": []
    },
    "kernelspec": {
      "name": "python3",
      "display_name": "Python 3"
    },
    "language_info": {
      "name": "python"
    }
  },
  "cells": [
    {
      "cell_type": "code",
      "execution_count": null,
      "metadata": {
        "colab": {
          "base_uri": "https://localhost:8080/"
        },
        "id": "CzxeV7AZSrbO",
        "outputId": "40927da1-20fa-44c0-cd59-8367b81464a6"
      },
      "outputs": [
        {
          "output_type": "stream",
          "name": "stdout",
          "text": [
            "today's date 2023-11-01\n"
          ]
        }
      ],
      "source": [
        "from datetime import date\n",
        "today = date.today()\n",
        "print(\"today's date\", today)"
      ]
    },
    {
      "cell_type": "code",
      "source": [
        "x = 2*5\n",
        "print(\"2*5=\", x)"
      ],
      "metadata": {
        "colab": {
          "base_uri": "https://localhost:8080/"
        },
        "id": "WpB9frzjTZrA",
        "outputId": "d575ef25-36a9-453d-a19f-40e465429b82"
      },
      "execution_count": null,
      "outputs": [
        {
          "output_type": "stream",
          "name": "stdout",
          "text": [
            "2*5= 10\n"
          ]
        }
      ]
    }
  ]
}